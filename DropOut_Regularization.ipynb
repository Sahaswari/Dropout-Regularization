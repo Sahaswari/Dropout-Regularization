{
  "nbformat": 4,
  "nbformat_minor": 0,
  "metadata": {
    "colab": {
      "provenance": [],
      "authorship_tag": "ABX9TyNezaaNoOVnj/9lU+ojrNFJ",
      "include_colab_link": true
    },
    "kernelspec": {
      "name": "python3",
      "display_name": "Python 3"
    },
    "language_info": {
      "name": "python"
    }
  },
  "cells": [
    {
      "cell_type": "markdown",
      "metadata": {
        "id": "view-in-github",
        "colab_type": "text"
      },
      "source": [
        "<a href=\"https://colab.research.google.com/github/Sahaswari/Dropout-Regularization/blob/main/DropOut_Regularization.ipynb\" target=\"_parent\"><img src=\"https://colab.research.google.com/assets/colab-badge.svg\" alt=\"Open In Colab\"/></a>"
      ]
    },
    {
      "cell_type": "code",
      "execution_count": 2,
      "metadata": {
        "id": "geOkeLxtCGZs"
      },
      "outputs": [],
      "source": [
        "import pandas as pd\n",
        "import tensorflow as tf\n",
        "from sklearn.preprocessing import LabelEncoder #string values conver to numerical data\n",
        "from sklearn.preprocessing import MinMaxScaler #feachers scaler"
      ]
    },
    {
      "cell_type": "code",
      "source": [
        "from google.colab import drive\n",
        "drive.mount(\"/content/drive\")"
      ],
      "metadata": {
        "colab": {
          "base_uri": "https://localhost:8080/"
        },
        "id": "0sYLN89FMEiI",
        "outputId": "3fa7d12a-08cd-4896-c4e2-384894155b22"
      },
      "execution_count": 4,
      "outputs": [
        {
          "output_type": "stream",
          "name": "stdout",
          "text": [
            "Mounted at /content/drive\n"
          ]
        }
      ]
    },
    {
      "cell_type": "code",
      "source": [
        "data = pd.read_csv(\"/content/drive/MyDrive/Colab Notebooks/DeepLearning Codes/DropOut Regulazation/Sonar.csv\",header = None)\n",
        "data = data.values"
      ],
      "metadata": {
        "id": "FA2sJrOBGlT1"
      },
      "execution_count": 5,
      "outputs": []
    },
    {
      "cell_type": "code",
      "source": [
        "data[:1]"
      ],
      "metadata": {
        "colab": {
          "base_uri": "https://localhost:8080/"
        },
        "id": "XeimyW1zJa7B",
        "outputId": "e1e04c03-d560-4c17-9b46-cf84bdd14001"
      },
      "execution_count": 6,
      "outputs": [
        {
          "output_type": "execute_result",
          "data": {
            "text/plain": [
              "array([[0.02, 0.0371, 0.0428, 0.0207, 0.0954, 0.0986, 0.1539, 0.1601,\n",
              "        0.3109, 0.2111, 0.1609, 0.1582, 0.2238, 0.0645, 0.066, 0.2273,\n",
              "        0.31, 0.2999, 0.5078, 0.4797, 0.5783, 0.5071, 0.4328, 0.555,\n",
              "        0.6711, 0.6415, 0.7104, 0.808, 0.6791, 0.3857, 0.1307, 0.2604,\n",
              "        0.5121, 0.7547, 0.8537, 0.8507, 0.6692, 0.6097, 0.4943, 0.2744,\n",
              "        0.051, 0.2834, 0.2825, 0.4256, 0.2641, 0.1386, 0.1051, 0.1343,\n",
              "        0.0383, 0.0324, 0.0232, 0.0027, 0.0065, 0.0159, 0.0072, 0.0167,\n",
              "        0.018, 0.0084, 0.009, 0.0032, 'R']], dtype=object)"
            ]
          },
          "metadata": {},
          "execution_count": 6
        }
      ]
    },
    {
      "cell_type": "code",
      "source": [
        "#divide data set to x and y\n",
        "x = data[:,0:60].astype(float) #till last cloumn\n",
        "y = data[:,60] # take last coloumn\n",
        "y = y.flatten()"
      ],
      "metadata": {
        "id": "CCQF7ypdMCoe"
      },
      "execution_count": 22,
      "outputs": []
    },
    {
      "cell_type": "code",
      "source": [
        "# Encode vlaues to number\n",
        "encoder = LabelEncoder()\n",
        "encoder.fit(y)\n",
        "y = encoder.transform(y)\n"
      ],
      "metadata": {
        "id": "jx1jl2AeNR4o"
      },
      "execution_count": 23,
      "outputs": []
    },
    {
      "cell_type": "code",
      "source": [
        "#scale data\n",
        "scaler = MinMaxScaler()\n",
        "x = scaler.fit_transform(x)"
      ],
      "metadata": {
        "id": "-X0aMnkwOEqo"
      },
      "execution_count": 25,
      "outputs": []
    },
    {
      "cell_type": "code",
      "source": [
        "# spilit train and test data\n",
        "from sklearn.model_selection import train_test_split\n",
        "x_train, x_test , y_train, y_test = train_test_split(x,y,test_size = 0.2, random_state = 42)"
      ],
      "metadata": {
        "id": "LXpjTEBsS1TB"
      },
      "execution_count": 26,
      "outputs": []
    },
    {
      "cell_type": "code",
      "source": [
        "tf.random.set_seed(42) #set random seed for tensorflow operation\n",
        "\n",
        "#create model without droplayers\n",
        "model =tf.keras.Sequential([\n",
        "  tf.keras.layers.Dense(30,activation='relu', input_shape=(60,)),\n",
        "  tf.keras.layers.Dense(60,activation='relu'),\n",
        "  tf.keras.layers.Dense(60, activation='relu'),\n",
        "  tf.keras.layers.Dense(30, activation='relu'),\n",
        "  tf.keras.layers.Dense(1, activation='sigmoid')\n",
        "])\n",
        "\n"
      ],
      "metadata": {
        "id": "y6jGxFRzUFhX"
      },
      "execution_count": 28,
      "outputs": []
    },
    {
      "cell_type": "code",
      "source": [
        "#compile the model\n",
        "model.compile(loss = tf.keras.losses.BinaryCrossentropy(),\n",
        "  optimizer = tf.keras.optimizers.Adam(learning_rate = 0.005),\n",
        "  metrics = [\"accuracy\"])"
      ],
      "metadata": {
        "id": "P5TpXVATV-W7"
      },
      "execution_count": 31,
      "outputs": []
    },
    {
      "cell_type": "code",
      "source": [
        "#train the model\n",
        "epoch_number = 100\n",
        "history = model.fit(x_train,y_train, epochs=epoch_number)"
      ],
      "metadata": {
        "colab": {
          "base_uri": "https://localhost:8080/"
        },
        "id": "uBb7OAOBW2ba",
        "outputId": "b312a48f-a46c-4804-e396-72567b285f03"
      },
      "execution_count": 32,
      "outputs": [
        {
          "output_type": "stream",
          "name": "stdout",
          "text": [
            "Epoch 1/100\n",
            "6/6 [==============================] - 2s 5ms/step - loss: 0.6911 - accuracy: 0.5783\n",
            "Epoch 2/100\n",
            "6/6 [==============================] - 0s 3ms/step - loss: 0.6642 - accuracy: 0.6687\n",
            "Epoch 3/100\n",
            "6/6 [==============================] - 0s 3ms/step - loss: 0.6058 - accuracy: 0.7651\n",
            "Epoch 4/100\n",
            "6/6 [==============================] - 0s 3ms/step - loss: 0.5365 - accuracy: 0.7108\n",
            "Epoch 5/100\n",
            "6/6 [==============================] - 0s 3ms/step - loss: 0.5238 - accuracy: 0.7530\n",
            "Epoch 6/100\n",
            "6/6 [==============================] - 0s 3ms/step - loss: 0.4607 - accuracy: 0.7410\n",
            "Epoch 7/100\n",
            "6/6 [==============================] - 0s 3ms/step - loss: 0.5395 - accuracy: 0.7289\n",
            "Epoch 8/100\n",
            "6/6 [==============================] - 0s 4ms/step - loss: 0.4479 - accuracy: 0.8072\n",
            "Epoch 9/100\n",
            "6/6 [==============================] - 0s 3ms/step - loss: 0.3937 - accuracy: 0.8434\n",
            "Epoch 10/100\n",
            "6/6 [==============================] - 0s 3ms/step - loss: 0.3707 - accuracy: 0.8253\n",
            "Epoch 11/100\n",
            "6/6 [==============================] - 0s 3ms/step - loss: 0.3205 - accuracy: 0.8976\n",
            "Epoch 12/100\n",
            "6/6 [==============================] - 0s 3ms/step - loss: 0.2685 - accuracy: 0.9217\n",
            "Epoch 13/100\n",
            "6/6 [==============================] - 0s 3ms/step - loss: 0.2526 - accuracy: 0.9157\n",
            "Epoch 14/100\n",
            "6/6 [==============================] - 0s 3ms/step - loss: 0.2658 - accuracy: 0.8855\n",
            "Epoch 15/100\n",
            "6/6 [==============================] - 0s 3ms/step - loss: 0.1935 - accuracy: 0.9277\n",
            "Epoch 16/100\n",
            "6/6 [==============================] - 0s 3ms/step - loss: 0.1979 - accuracy: 0.9217\n",
            "Epoch 17/100\n",
            "6/6 [==============================] - 0s 3ms/step - loss: 0.2308 - accuracy: 0.9096\n",
            "Epoch 18/100\n",
            "6/6 [==============================] - 0s 5ms/step - loss: 0.2664 - accuracy: 0.9036\n",
            "Epoch 19/100\n",
            "6/6 [==============================] - 0s 4ms/step - loss: 0.1916 - accuracy: 0.9337\n",
            "Epoch 20/100\n",
            "6/6 [==============================] - 0s 3ms/step - loss: 0.1797 - accuracy: 0.9157\n",
            "Epoch 21/100\n",
            "6/6 [==============================] - 0s 3ms/step - loss: 0.1027 - accuracy: 0.9759\n",
            "Epoch 22/100\n",
            "6/6 [==============================] - 0s 3ms/step - loss: 0.1041 - accuracy: 0.9759\n",
            "Epoch 23/100\n",
            "6/6 [==============================] - 0s 4ms/step - loss: 0.0919 - accuracy: 0.9699\n",
            "Epoch 24/100\n",
            "6/6 [==============================] - 0s 3ms/step - loss: 0.1046 - accuracy: 0.9639\n",
            "Epoch 25/100\n",
            "6/6 [==============================] - 0s 5ms/step - loss: 0.0644 - accuracy: 0.9759\n",
            "Epoch 26/100\n",
            "6/6 [==============================] - 0s 4ms/step - loss: 0.1397 - accuracy: 0.9337\n",
            "Epoch 27/100\n",
            "6/6 [==============================] - 0s 4ms/step - loss: 0.1284 - accuracy: 0.9518\n",
            "Epoch 28/100\n",
            "6/6 [==============================] - 0s 3ms/step - loss: 0.2083 - accuracy: 0.9157\n",
            "Epoch 29/100\n",
            "6/6 [==============================] - 0s 3ms/step - loss: 0.0548 - accuracy: 0.9940\n",
            "Epoch 30/100\n",
            "6/6 [==============================] - 0s 3ms/step - loss: 0.0411 - accuracy: 0.9940\n",
            "Epoch 31/100\n",
            "6/6 [==============================] - 0s 3ms/step - loss: 0.0495 - accuracy: 0.9880\n",
            "Epoch 32/100\n",
            "6/6 [==============================] - 0s 3ms/step - loss: 0.0530 - accuracy: 0.9880\n",
            "Epoch 33/100\n",
            "6/6 [==============================] - 0s 3ms/step - loss: 0.0412 - accuracy: 0.9940\n",
            "Epoch 34/100\n",
            "6/6 [==============================] - 0s 3ms/step - loss: 0.0289 - accuracy: 0.9940\n",
            "Epoch 35/100\n",
            "6/6 [==============================] - 0s 3ms/step - loss: 0.0257 - accuracy: 0.9940\n",
            "Epoch 36/100\n",
            "6/6 [==============================] - 0s 3ms/step - loss: 0.0241 - accuracy: 0.9940\n",
            "Epoch 37/100\n",
            "6/6 [==============================] - 0s 5ms/step - loss: 0.0162 - accuracy: 0.9940\n",
            "Epoch 38/100\n",
            "6/6 [==============================] - 0s 4ms/step - loss: 0.0105 - accuracy: 0.9940\n",
            "Epoch 39/100\n",
            "6/6 [==============================] - 0s 4ms/step - loss: 0.0061 - accuracy: 1.0000\n",
            "Epoch 40/100\n",
            "6/6 [==============================] - 0s 4ms/step - loss: 0.0142 - accuracy: 0.9940\n",
            "Epoch 41/100\n",
            "6/6 [==============================] - 0s 4ms/step - loss: 0.0039 - accuracy: 1.0000\n",
            "Epoch 42/100\n",
            "6/6 [==============================] - 0s 6ms/step - loss: 0.0036 - accuracy: 1.0000\n",
            "Epoch 43/100\n",
            "6/6 [==============================] - 0s 5ms/step - loss: 0.0014 - accuracy: 1.0000\n",
            "Epoch 44/100\n",
            "6/6 [==============================] - 0s 5ms/step - loss: 0.0019 - accuracy: 1.0000\n",
            "Epoch 45/100\n",
            "6/6 [==============================] - 0s 5ms/step - loss: 0.0011 - accuracy: 1.0000\n",
            "Epoch 46/100\n",
            "6/6 [==============================] - 0s 6ms/step - loss: 8.9376e-04 - accuracy: 1.0000\n",
            "Epoch 47/100\n",
            "6/6 [==============================] - 0s 5ms/step - loss: 8.0603e-04 - accuracy: 1.0000\n",
            "Epoch 48/100\n",
            "6/6 [==============================] - 0s 5ms/step - loss: 6.6574e-04 - accuracy: 1.0000\n",
            "Epoch 49/100\n",
            "6/6 [==============================] - 0s 4ms/step - loss: 5.7073e-04 - accuracy: 1.0000\n",
            "Epoch 50/100\n",
            "6/6 [==============================] - 0s 4ms/step - loss: 5.2678e-04 - accuracy: 1.0000\n",
            "Epoch 51/100\n",
            "6/6 [==============================] - 0s 6ms/step - loss: 4.9249e-04 - accuracy: 1.0000\n",
            "Epoch 52/100\n",
            "6/6 [==============================] - 0s 5ms/step - loss: 4.5029e-04 - accuracy: 1.0000\n",
            "Epoch 53/100\n",
            "6/6 [==============================] - 0s 4ms/step - loss: 4.1500e-04 - accuracy: 1.0000\n",
            "Epoch 54/100\n",
            "6/6 [==============================] - 0s 5ms/step - loss: 3.8655e-04 - accuracy: 1.0000\n",
            "Epoch 55/100\n",
            "6/6 [==============================] - 0s 5ms/step - loss: 3.6294e-04 - accuracy: 1.0000\n",
            "Epoch 56/100\n",
            "6/6 [==============================] - 0s 5ms/step - loss: 3.3942e-04 - accuracy: 1.0000\n",
            "Epoch 57/100\n",
            "6/6 [==============================] - 0s 4ms/step - loss: 3.2323e-04 - accuracy: 1.0000\n",
            "Epoch 58/100\n",
            "6/6 [==============================] - 0s 5ms/step - loss: 3.1126e-04 - accuracy: 1.0000\n",
            "Epoch 59/100\n",
            "6/6 [==============================] - 0s 5ms/step - loss: 2.8303e-04 - accuracy: 1.0000\n",
            "Epoch 60/100\n",
            "6/6 [==============================] - 0s 4ms/step - loss: 2.6608e-04 - accuracy: 1.0000\n",
            "Epoch 61/100\n",
            "6/6 [==============================] - 0s 5ms/step - loss: 2.5658e-04 - accuracy: 1.0000\n",
            "Epoch 62/100\n",
            "6/6 [==============================] - 0s 4ms/step - loss: 2.4092e-04 - accuracy: 1.0000\n",
            "Epoch 63/100\n",
            "6/6 [==============================] - 0s 4ms/step - loss: 2.2414e-04 - accuracy: 1.0000\n",
            "Epoch 64/100\n",
            "6/6 [==============================] - 0s 4ms/step - loss: 2.1345e-04 - accuracy: 1.0000\n",
            "Epoch 65/100\n",
            "6/6 [==============================] - 0s 4ms/step - loss: 2.0208e-04 - accuracy: 1.0000\n",
            "Epoch 66/100\n",
            "6/6 [==============================] - 0s 4ms/step - loss: 1.9352e-04 - accuracy: 1.0000\n",
            "Epoch 67/100\n",
            "6/6 [==============================] - 0s 4ms/step - loss: 1.8582e-04 - accuracy: 1.0000\n",
            "Epoch 68/100\n",
            "6/6 [==============================] - 0s 4ms/step - loss: 1.7668e-04 - accuracy: 1.0000\n",
            "Epoch 69/100\n",
            "6/6 [==============================] - 0s 5ms/step - loss: 1.6914e-04 - accuracy: 1.0000\n",
            "Epoch 70/100\n",
            "6/6 [==============================] - 0s 5ms/step - loss: 1.6241e-04 - accuracy: 1.0000\n",
            "Epoch 71/100\n",
            "6/6 [==============================] - 0s 4ms/step - loss: 1.5410e-04 - accuracy: 1.0000\n",
            "Epoch 72/100\n",
            "6/6 [==============================] - 0s 4ms/step - loss: 1.4817e-04 - accuracy: 1.0000\n",
            "Epoch 73/100\n",
            "6/6 [==============================] - 0s 5ms/step - loss: 1.4033e-04 - accuracy: 1.0000\n",
            "Epoch 74/100\n",
            "6/6 [==============================] - 0s 4ms/step - loss: 1.3102e-04 - accuracy: 1.0000\n",
            "Epoch 75/100\n",
            "6/6 [==============================] - 0s 4ms/step - loss: 1.2458e-04 - accuracy: 1.0000\n",
            "Epoch 76/100\n",
            "6/6 [==============================] - 0s 5ms/step - loss: 1.1576e-04 - accuracy: 1.0000\n",
            "Epoch 77/100\n",
            "6/6 [==============================] - 0s 5ms/step - loss: 1.1389e-04 - accuracy: 1.0000\n",
            "Epoch 78/100\n",
            "6/6 [==============================] - 0s 4ms/step - loss: 1.0886e-04 - accuracy: 1.0000\n",
            "Epoch 79/100\n",
            "6/6 [==============================] - 0s 4ms/step - loss: 1.0139e-04 - accuracy: 1.0000\n",
            "Epoch 80/100\n",
            "6/6 [==============================] - 0s 4ms/step - loss: 1.0093e-04 - accuracy: 1.0000\n",
            "Epoch 81/100\n",
            "6/6 [==============================] - 0s 4ms/step - loss: 1.0892e-04 - accuracy: 1.0000\n",
            "Epoch 82/100\n",
            "6/6 [==============================] - 0s 4ms/step - loss: 1.0465e-04 - accuracy: 1.0000\n",
            "Epoch 83/100\n",
            "6/6 [==============================] - 0s 4ms/step - loss: 9.5587e-05 - accuracy: 1.0000\n",
            "Epoch 84/100\n",
            "6/6 [==============================] - 0s 4ms/step - loss: 8.6562e-05 - accuracy: 1.0000\n",
            "Epoch 85/100\n",
            "6/6 [==============================] - 0s 5ms/step - loss: 8.0728e-05 - accuracy: 1.0000\n",
            "Epoch 86/100\n",
            "6/6 [==============================] - 0s 5ms/step - loss: 7.7736e-05 - accuracy: 1.0000\n",
            "Epoch 87/100\n",
            "6/6 [==============================] - 0s 4ms/step - loss: 7.3528e-05 - accuracy: 1.0000\n",
            "Epoch 88/100\n",
            "6/6 [==============================] - 0s 5ms/step - loss: 7.0997e-05 - accuracy: 1.0000\n",
            "Epoch 89/100\n",
            "6/6 [==============================] - 0s 4ms/step - loss: 6.8789e-05 - accuracy: 1.0000\n",
            "Epoch 90/100\n",
            "6/6 [==============================] - 0s 4ms/step - loss: 6.6155e-05 - accuracy: 1.0000\n",
            "Epoch 91/100\n",
            "6/6 [==============================] - 0s 5ms/step - loss: 6.4480e-05 - accuracy: 1.0000\n",
            "Epoch 92/100\n",
            "6/6 [==============================] - 0s 4ms/step - loss: 6.2389e-05 - accuracy: 1.0000\n",
            "Epoch 93/100\n",
            "6/6 [==============================] - 0s 5ms/step - loss: 5.8900e-05 - accuracy: 1.0000\n",
            "Epoch 94/100\n",
            "6/6 [==============================] - 0s 4ms/step - loss: 5.7325e-05 - accuracy: 1.0000\n",
            "Epoch 95/100\n",
            "6/6 [==============================] - 0s 5ms/step - loss: 5.5863e-05 - accuracy: 1.0000\n",
            "Epoch 96/100\n",
            "6/6 [==============================] - 0s 5ms/step - loss: 5.4049e-05 - accuracy: 1.0000\n",
            "Epoch 97/100\n",
            "6/6 [==============================] - 0s 4ms/step - loss: 5.2089e-05 - accuracy: 1.0000\n",
            "Epoch 98/100\n",
            "6/6 [==============================] - 0s 4ms/step - loss: 5.0678e-05 - accuracy: 1.0000\n",
            "Epoch 99/100\n",
            "6/6 [==============================] - 0s 4ms/step - loss: 4.8909e-05 - accuracy: 1.0000\n",
            "Epoch 100/100\n",
            "6/6 [==============================] - 0s 4ms/step - loss: 4.7525e-05 - accuracy: 1.0000\n"
          ]
        }
      ]
    },
    {
      "cell_type": "code",
      "source": [
        "#evaluate the model\n",
        "model.evaluate(x_test, y_test)"
      ],
      "metadata": {
        "colab": {
          "base_uri": "https://localhost:8080/"
        },
        "id": "rh2pnRIZf3km",
        "outputId": "38b3ca77-5867-473a-8dc6-da358512a619"
      },
      "execution_count": 33,
      "outputs": [
        {
          "output_type": "stream",
          "name": "stdout",
          "text": [
            "2/2 [==============================] - 1s 12ms/step - loss: 0.4625 - accuracy: 0.9286\n"
          ]
        },
        {
          "output_type": "execute_result",
          "data": {
            "text/plain": [
              "[0.46246883273124695, 0.9285714030265808]"
            ]
          },
          "metadata": {},
          "execution_count": 33
        }
      ]
    },
    {
      "cell_type": "code",
      "source": [
        "# use dropout layers\n",
        "tf.random.set_seed(42) #set random seed for tensorflow operation\n",
        "\n",
        "#create model with droplayers\n",
        "model =tf.keras.Sequential([\n",
        "  tf.keras.layers.Dense(30,activation='relu', input_shape=(60,)),\n",
        "  tf.keras.layers.Dropout(0.2),\n",
        "  tf.keras.layers.Dense(60,activation='relu'),\n",
        "  tf.keras.layers.Dropout(0.2),\n",
        "  tf.keras.layers.Dense(60, activation='relu'),\n",
        "  tf.keras.layers.Dropout(0.2),\n",
        "  tf.keras.layers.Dense(30, activation='relu'),\n",
        "  tf.keras.layers.Dropout(0.2),\n",
        "  tf.keras.layers.Dense(1, activation='sigmoid')\n",
        "])"
      ],
      "metadata": {
        "id": "lcKyV3VMgOQR"
      },
      "execution_count": 35,
      "outputs": []
    },
    {
      "cell_type": "code",
      "source": [
        "#compile the model\n",
        "model.compile(loss = tf.keras.losses.BinaryCrossentropy(),\n",
        "  optimizer = tf.keras.optimizers.Adam(learning_rate = 0.005),\n",
        "  metrics = [\"accuracy\"])"
      ],
      "metadata": {
        "id": "sJmpzZjKhR5Z"
      },
      "execution_count": 36,
      "outputs": []
    },
    {
      "cell_type": "code",
      "source": [
        "#train the model\n",
        "epoch_number = 100\n",
        "history = model.fit(x_train,y_train, epochs=epoch_number)"
      ],
      "metadata": {
        "colab": {
          "base_uri": "https://localhost:8080/"
        },
        "id": "Q0pRsVb_hcFU",
        "outputId": "d06ea5c8-0af9-46a0-b8a1-c20751093b3e"
      },
      "execution_count": 37,
      "outputs": [
        {
          "output_type": "stream",
          "name": "stdout",
          "text": [
            "Epoch 1/100\n",
            "6/6 [==============================] - 2s 4ms/step - loss: 0.6997 - accuracy: 0.4578\n",
            "Epoch 2/100\n",
            "6/6 [==============================] - 0s 4ms/step - loss: 0.6877 - accuracy: 0.5602\n",
            "Epoch 3/100\n",
            "6/6 [==============================] - 0s 4ms/step - loss: 0.6794 - accuracy: 0.5723\n",
            "Epoch 4/100\n",
            "6/6 [==============================] - 0s 4ms/step - loss: 0.6772 - accuracy: 0.5663\n",
            "Epoch 5/100\n",
            "6/6 [==============================] - 0s 3ms/step - loss: 0.6581 - accuracy: 0.6205\n",
            "Epoch 6/100\n",
            "6/6 [==============================] - 0s 3ms/step - loss: 0.5833 - accuracy: 0.7410\n",
            "Epoch 7/100\n",
            "6/6 [==============================] - 0s 4ms/step - loss: 0.5985 - accuracy: 0.6988\n",
            "Epoch 8/100\n",
            "6/6 [==============================] - 0s 3ms/step - loss: 0.5488 - accuracy: 0.7229\n",
            "Epoch 9/100\n",
            "6/6 [==============================] - 0s 3ms/step - loss: 0.4576 - accuracy: 0.7771\n",
            "Epoch 10/100\n",
            "6/6 [==============================] - 0s 3ms/step - loss: 0.4757 - accuracy: 0.7711\n",
            "Epoch 11/100\n",
            "6/6 [==============================] - 0s 4ms/step - loss: 0.4282 - accuracy: 0.7771\n",
            "Epoch 12/100\n",
            "6/6 [==============================] - 0s 4ms/step - loss: 0.3707 - accuracy: 0.8193\n",
            "Epoch 13/100\n",
            "6/6 [==============================] - 0s 4ms/step - loss: 0.4093 - accuracy: 0.7952\n",
            "Epoch 14/100\n",
            "6/6 [==============================] - 0s 4ms/step - loss: 0.3261 - accuracy: 0.8494\n",
            "Epoch 15/100\n",
            "6/6 [==============================] - 0s 3ms/step - loss: 0.3708 - accuracy: 0.8313\n",
            "Epoch 16/100\n",
            "6/6 [==============================] - 0s 3ms/step - loss: 0.3490 - accuracy: 0.8313\n",
            "Epoch 17/100\n",
            "6/6 [==============================] - 0s 4ms/step - loss: 0.2957 - accuracy: 0.8554\n",
            "Epoch 18/100\n",
            "6/6 [==============================] - 0s 4ms/step - loss: 0.3222 - accuracy: 0.8675\n",
            "Epoch 19/100\n",
            "6/6 [==============================] - 0s 5ms/step - loss: 0.2734 - accuracy: 0.8795\n",
            "Epoch 20/100\n",
            "6/6 [==============================] - 0s 5ms/step - loss: 0.2750 - accuracy: 0.8916\n",
            "Epoch 21/100\n",
            "6/6 [==============================] - 0s 4ms/step - loss: 0.2750 - accuracy: 0.8735\n",
            "Epoch 22/100\n",
            "6/6 [==============================] - 0s 3ms/step - loss: 0.2085 - accuracy: 0.9277\n",
            "Epoch 23/100\n",
            "6/6 [==============================] - 0s 4ms/step - loss: 0.1981 - accuracy: 0.9277\n",
            "Epoch 24/100\n",
            "6/6 [==============================] - 0s 3ms/step - loss: 0.1929 - accuracy: 0.9277\n",
            "Epoch 25/100\n",
            "6/6 [==============================] - 0s 4ms/step - loss: 0.1740 - accuracy: 0.9337\n",
            "Epoch 26/100\n",
            "6/6 [==============================] - 0s 3ms/step - loss: 0.2529 - accuracy: 0.8976\n",
            "Epoch 27/100\n",
            "6/6 [==============================] - 0s 3ms/step - loss: 0.2678 - accuracy: 0.9036\n",
            "Epoch 28/100\n",
            "6/6 [==============================] - 0s 4ms/step - loss: 0.1512 - accuracy: 0.9639\n",
            "Epoch 29/100\n",
            "6/6 [==============================] - 0s 3ms/step - loss: 0.1878 - accuracy: 0.9096\n",
            "Epoch 30/100\n",
            "6/6 [==============================] - 0s 3ms/step - loss: 0.2080 - accuracy: 0.9337\n",
            "Epoch 31/100\n",
            "6/6 [==============================] - 0s 3ms/step - loss: 0.1870 - accuracy: 0.9157\n",
            "Epoch 32/100\n",
            "6/6 [==============================] - 0s 4ms/step - loss: 0.1847 - accuracy: 0.9277\n",
            "Epoch 33/100\n",
            "6/6 [==============================] - 0s 4ms/step - loss: 0.1760 - accuracy: 0.9337\n",
            "Epoch 34/100\n",
            "6/6 [==============================] - 0s 4ms/step - loss: 0.1582 - accuracy: 0.9217\n",
            "Epoch 35/100\n",
            "6/6 [==============================] - 0s 4ms/step - loss: 0.3103 - accuracy: 0.8373\n",
            "Epoch 36/100\n",
            "6/6 [==============================] - 0s 4ms/step - loss: 0.2984 - accuracy: 0.8675\n",
            "Epoch 37/100\n",
            "6/6 [==============================] - 0s 4ms/step - loss: 0.1587 - accuracy: 0.9639\n",
            "Epoch 38/100\n",
            "6/6 [==============================] - 0s 4ms/step - loss: 0.2023 - accuracy: 0.9217\n",
            "Epoch 39/100\n",
            "6/6 [==============================] - 0s 4ms/step - loss: 0.1666 - accuracy: 0.9277\n",
            "Epoch 40/100\n",
            "6/6 [==============================] - 0s 4ms/step - loss: 0.2065 - accuracy: 0.9217\n",
            "Epoch 41/100\n",
            "6/6 [==============================] - 0s 4ms/step - loss: 0.1615 - accuracy: 0.9277\n",
            "Epoch 42/100\n",
            "6/6 [==============================] - 0s 4ms/step - loss: 0.1614 - accuracy: 0.9277\n",
            "Epoch 43/100\n",
            "6/6 [==============================] - 0s 4ms/step - loss: 0.1528 - accuracy: 0.9337\n",
            "Epoch 44/100\n",
            "6/6 [==============================] - 0s 4ms/step - loss: 0.1150 - accuracy: 0.9578\n",
            "Epoch 45/100\n",
            "6/6 [==============================] - 0s 4ms/step - loss: 0.1127 - accuracy: 0.9518\n",
            "Epoch 46/100\n",
            "6/6 [==============================] - 0s 4ms/step - loss: 0.1050 - accuracy: 0.9639\n",
            "Epoch 47/100\n",
            "6/6 [==============================] - 0s 4ms/step - loss: 0.1198 - accuracy: 0.9699\n",
            "Epoch 48/100\n",
            "6/6 [==============================] - 0s 4ms/step - loss: 0.1517 - accuracy: 0.9518\n",
            "Epoch 49/100\n",
            "6/6 [==============================] - 0s 4ms/step - loss: 0.2657 - accuracy: 0.8976\n",
            "Epoch 50/100\n",
            "6/6 [==============================] - 0s 4ms/step - loss: 0.1949 - accuracy: 0.9217\n",
            "Epoch 51/100\n",
            "6/6 [==============================] - 0s 4ms/step - loss: 0.1878 - accuracy: 0.9217\n",
            "Epoch 52/100\n",
            "6/6 [==============================] - 0s 3ms/step - loss: 0.2099 - accuracy: 0.9036\n",
            "Epoch 53/100\n",
            "6/6 [==============================] - 0s 4ms/step - loss: 0.1659 - accuracy: 0.9398\n",
            "Epoch 54/100\n",
            "6/6 [==============================] - 0s 4ms/step - loss: 0.2067 - accuracy: 0.9096\n",
            "Epoch 55/100\n",
            "6/6 [==============================] - 0s 5ms/step - loss: 0.1708 - accuracy: 0.9458\n",
            "Epoch 56/100\n",
            "6/6 [==============================] - 0s 4ms/step - loss: 0.1868 - accuracy: 0.9096\n",
            "Epoch 57/100\n",
            "6/6 [==============================] - 0s 4ms/step - loss: 0.2325 - accuracy: 0.9036\n",
            "Epoch 58/100\n",
            "6/6 [==============================] - 0s 4ms/step - loss: 0.1825 - accuracy: 0.9518\n",
            "Epoch 59/100\n",
            "6/6 [==============================] - 0s 4ms/step - loss: 0.2206 - accuracy: 0.9096\n",
            "Epoch 60/100\n",
            "6/6 [==============================] - 0s 4ms/step - loss: 0.2250 - accuracy: 0.9096\n",
            "Epoch 61/100\n",
            "6/6 [==============================] - 0s 4ms/step - loss: 0.1568 - accuracy: 0.9398\n",
            "Epoch 62/100\n",
            "6/6 [==============================] - 0s 4ms/step - loss: 0.1337 - accuracy: 0.9578\n",
            "Epoch 63/100\n",
            "6/6 [==============================] - 0s 4ms/step - loss: 0.0832 - accuracy: 0.9759\n",
            "Epoch 64/100\n",
            "6/6 [==============================] - 0s 4ms/step - loss: 0.1040 - accuracy: 0.9578\n",
            "Epoch 65/100\n",
            "6/6 [==============================] - 0s 4ms/step - loss: 0.1112 - accuracy: 0.9518\n",
            "Epoch 66/100\n",
            "6/6 [==============================] - 0s 4ms/step - loss: 0.1197 - accuracy: 0.9578\n",
            "Epoch 67/100\n",
            "6/6 [==============================] - 0s 4ms/step - loss: 0.0693 - accuracy: 0.9699\n",
            "Epoch 68/100\n",
            "6/6 [==============================] - 0s 4ms/step - loss: 0.1478 - accuracy: 0.9458\n",
            "Epoch 69/100\n",
            "6/6 [==============================] - 0s 4ms/step - loss: 0.2328 - accuracy: 0.8976\n",
            "Epoch 70/100\n",
            "6/6 [==============================] - 0s 4ms/step - loss: 0.1838 - accuracy: 0.9277\n",
            "Epoch 71/100\n",
            "6/6 [==============================] - 0s 4ms/step - loss: 0.1578 - accuracy: 0.9217\n",
            "Epoch 72/100\n",
            "6/6 [==============================] - 0s 3ms/step - loss: 0.1295 - accuracy: 0.9458\n",
            "Epoch 73/100\n",
            "6/6 [==============================] - 0s 4ms/step - loss: 0.1778 - accuracy: 0.9277\n",
            "Epoch 74/100\n",
            "6/6 [==============================] - 0s 3ms/step - loss: 0.1249 - accuracy: 0.9458\n",
            "Epoch 75/100\n",
            "6/6 [==============================] - 0s 4ms/step - loss: 0.1116 - accuracy: 0.9458\n",
            "Epoch 76/100\n",
            "6/6 [==============================] - 0s 4ms/step - loss: 0.0879 - accuracy: 0.9639\n",
            "Epoch 77/100\n",
            "6/6 [==============================] - 0s 4ms/step - loss: 0.1251 - accuracy: 0.9639\n",
            "Epoch 78/100\n",
            "6/6 [==============================] - 0s 4ms/step - loss: 0.0935 - accuracy: 0.9819\n",
            "Epoch 79/100\n",
            "6/6 [==============================] - 0s 4ms/step - loss: 0.1026 - accuracy: 0.9699\n",
            "Epoch 80/100\n",
            "6/6 [==============================] - 0s 5ms/step - loss: 0.1170 - accuracy: 0.9458\n",
            "Epoch 81/100\n",
            "6/6 [==============================] - 0s 4ms/step - loss: 0.0702 - accuracy: 0.9819\n",
            "Epoch 82/100\n",
            "6/6 [==============================] - 0s 4ms/step - loss: 0.1157 - accuracy: 0.9639\n",
            "Epoch 83/100\n",
            "6/6 [==============================] - 0s 4ms/step - loss: 0.0628 - accuracy: 0.9759\n",
            "Epoch 84/100\n",
            "6/6 [==============================] - 0s 4ms/step - loss: 0.0768 - accuracy: 0.9819\n",
            "Epoch 85/100\n",
            "6/6 [==============================] - 0s 3ms/step - loss: 0.0859 - accuracy: 0.9759\n",
            "Epoch 86/100\n",
            "6/6 [==============================] - 0s 4ms/step - loss: 0.0403 - accuracy: 0.9880\n",
            "Epoch 87/100\n",
            "6/6 [==============================] - 0s 4ms/step - loss: 0.0713 - accuracy: 0.9759\n",
            "Epoch 88/100\n",
            "6/6 [==============================] - 0s 4ms/step - loss: 0.0254 - accuracy: 0.9940\n",
            "Epoch 89/100\n",
            "6/6 [==============================] - 0s 5ms/step - loss: 0.0603 - accuracy: 0.9819\n",
            "Epoch 90/100\n",
            "6/6 [==============================] - 0s 4ms/step - loss: 0.0651 - accuracy: 0.9819\n",
            "Epoch 91/100\n",
            "6/6 [==============================] - 0s 4ms/step - loss: 0.1420 - accuracy: 0.9398\n",
            "Epoch 92/100\n",
            "6/6 [==============================] - 0s 3ms/step - loss: 0.1215 - accuracy: 0.9639\n",
            "Epoch 93/100\n",
            "6/6 [==============================] - 0s 4ms/step - loss: 0.2546 - accuracy: 0.9337\n",
            "Epoch 94/100\n",
            "6/6 [==============================] - 0s 3ms/step - loss: 0.1164 - accuracy: 0.9578\n",
            "Epoch 95/100\n",
            "6/6 [==============================] - 0s 4ms/step - loss: 0.1154 - accuracy: 0.9578\n",
            "Epoch 96/100\n",
            "6/6 [==============================] - 0s 4ms/step - loss: 0.1479 - accuracy: 0.9217\n",
            "Epoch 97/100\n",
            "6/6 [==============================] - 0s 4ms/step - loss: 0.1172 - accuracy: 0.9639\n",
            "Epoch 98/100\n",
            "6/6 [==============================] - 0s 4ms/step - loss: 0.0770 - accuracy: 0.9759\n",
            "Epoch 99/100\n",
            "6/6 [==============================] - 0s 4ms/step - loss: 0.0646 - accuracy: 0.9759\n",
            "Epoch 100/100\n",
            "6/6 [==============================] - 0s 5ms/step - loss: 0.0605 - accuracy: 0.9819\n"
          ]
        }
      ]
    },
    {
      "cell_type": "code",
      "source": [
        "#evaluate the model\n",
        "model.evaluate(x_test, y_test)"
      ],
      "metadata": {
        "colab": {
          "base_uri": "https://localhost:8080/"
        },
        "id": "xEYRHp7shf2u",
        "outputId": "862b4647-4f59-4b13-94dc-58557647dcab"
      },
      "execution_count": 38,
      "outputs": [
        {
          "output_type": "stream",
          "name": "stdout",
          "text": [
            "2/2 [==============================] - 0s 8ms/step - loss: 0.5640 - accuracy: 0.8095\n"
          ]
        },
        {
          "output_type": "execute_result",
          "data": {
            "text/plain": [
              "[0.5640467405319214, 0.8095238208770752]"
            ]
          },
          "metadata": {},
          "execution_count": 38
        }
      ]
    },
    {
      "cell_type": "code",
      "source": [],
      "metadata": {
        "id": "fOB6OF4ChmLg"
      },
      "execution_count": null,
      "outputs": []
    }
  ]
}